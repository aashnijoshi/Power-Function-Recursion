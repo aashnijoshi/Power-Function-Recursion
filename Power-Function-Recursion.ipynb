{
  "nbformat": 4,
  "nbformat_minor": 0,
  "metadata": {
    "colab": {
      "name": "Untitled5.ipynb",
      "provenance": [],
      "authorship_tag": "ABX9TyOjdJUGBs4c7D42A+7uzsyu",
      "include_colab_link": true
    },
    "kernelspec": {
      "name": "python3",
      "display_name": "Python 3"
    },
    "language_info": {
      "name": "python"
    }
  },
  "cells": [
    {
      "cell_type": "markdown",
      "metadata": {
        "id": "view-in-github",
        "colab_type": "text"
      },
      "source": [
        "<a href=\"https://colab.research.google.com/github/aashnijoshi/Power-Function-Recursion/blob/main/Power-Function-Recursion.ipynb\" target=\"_parent\"><img src=\"https://colab.research.google.com/assets/colab-badge.svg\" alt=\"Open In Colab\"/></a>"
      ]
    },
    {
      "cell_type": "code",
      "execution_count": null,
      "metadata": {
        "id": "1E4-zi360NIi"
      },
      "outputs": [],
      "source": [
        "#Using recursion to calculate the value of a number 'a' raised to another number 'b'\n",
        "#This program was designed to understand Recursion better\n",
        "\n",
        "print(\"Please enter values for 'a' and 'b' to obtain a raised to the power of b\")\n",
        "\n",
        "#Inputting values of a and b\n",
        "print(\"enter a \")\n",
        "a=int(input())\n",
        "b=print(\"enter b \")\n",
        "b=int(input())\n",
        "\n",
        "#Defining power function\n",
        "def power(a,b):\n",
        "    #Base\n",
        "    if b==1:\n",
        "        return a\n",
        "    else:\n",
        "        #Calling function again so that it recurses\n",
        "        return a*power(a,b-1)\n",
        "\n",
        "\n",
        "#Calling function for a and b\n",
        "c=power(a,b)\n",
        "\n",
        "#Printing final answer\n",
        "print (\"a^b is\",c)  \n"
      ]
    }
  ]
}